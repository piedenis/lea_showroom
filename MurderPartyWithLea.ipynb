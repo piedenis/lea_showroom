{
 "cells": [
  {
   "attachments": {},
   "cell_type": "markdown",
   "id": "62d8282c-172c-4cec-a3f9-9884392acf46",
   "metadata": {},
   "source": [
    "# FOSDEM'24 - A Murder Party with Lea\n",
    "<center> <span style=\"font-size:18px\">February 4, 2024</span><br>\n",
    "<center> <span style=\"font-size:18px\">by Pierre Denis</span>"
   ]
  },
  {
   "attachments": {},
   "cell_type": "markdown",
   "id": "66f61c91-129a-4e43-a5aa-521d23858630",
   "metadata": {},
   "source": [
    "## Intro: the murder...\n",
    "\n",
    "*It was a dark, foggy night. All the occupants of Randominion Manor were sleeping peacefully. Suddenly, around 3 a.m., a horrible scream arose. Shortly after, **Dr. Black** is found dead in the living room. After examining the body, one discovers, clutched in the doctor's left hand, two red dice.*\n",
    "<center><img src=\"red_dice.jpg\"/></center>\n",
    "\n",
    "***Lea**, the private investigator, watches the crime scene and whispers:<br> \"Mmmh... Two dice... Die+Die... Is it a rebus\"?*\n",
    "\n",
    "Four suspects have been identified, with some probabilities to be the killer:\n",
    "\n",
    "|![](ColMustard.jpg)     | ![](MrsPeacock.jpg) | ![](MrsWhite.jpg) | ![Plum](ProfPlum.jpg) |\n",
    "|:------------------------:|:---------------------:|:-------------------:|:-----------------------:|\n",
    "| Colonel Mustard: **40%**  | Mrs. Peacock: **25%**   | Mrs. White: **10%**   | Professor Plum: **25%**   |\n"
   ]
  },
  {
   "cell_type": "markdown",
   "id": "308b8156-9558-4e88-808d-74d5a0e775ab",
   "metadata": {},
   "source": [
    "After first inquiries, **Sigmund-the-profiler** declares:"
   ]
  },
  {
   "cell_type": "markdown",
   "id": "b4863930-6039-4c8a-a985-10e471819235",
   "metadata": {},
   "source": [
    "> ***if** Mrs. White is the killer, <br> \n",
    "**then** she'll be absent with prob. 95 %,<br>\n",
    "**otherwise** she'll be absent with prob. 20 %*\n",
    "<hr>\n",
    "\n",
    "> ***if** Mrs. Peacock is innocent,<br>\n",
    "**then** she knows who's the killer with prob. 75 %*\n",
    "<hr>\n",
    "\n",
    "> ***if** Mrs. Peacock is the killer **or if** she knows who’s the killer<br>\n",
    "**then** she'll be drunk with prob. 50 %,<br>\n",
    "**otherwise** she'll be drunk with prob. 10 %*\n",
    "<hr>\n",
    "\n",
    "> ***if** Col. Mustard is the killer, <br> \n",
    "**then** Prof. Plum will accuse him with prob. 75 %,<br>\n",
    "**otherwise** Prof. Plum will accuse him with prob. 5 %*\n",
    "<hr>\n",
    "How can Lea use all these uncertain information?<br>\n",
    "What if Mrs. Peacok is drunk?..."
   ]
  },
  {
   "cell_type": "markdown",
   "id": "a5d0edcf-506d-43a6-a639-330a1f6043bc",
   "metadata": {},
   "source": [
    "## Let's meet Lea..."
   ]
  },
  {
   "cell_type": "markdown",
   "id": "6c086761-7123-412b-a7d8-3c270551a0e1",
   "metadata": {},
   "source": [
    "[**Lea**](https://bitbucket.org/piedenis/lea), in a nutshell:\n",
    "\n",
    "* discrete probability distributions, on any Python objects\n",
    "* open to various probability representations, e.g. float, fractions and symbols\n",
    "* Bayesian reasonning and Probabilistic Programming (PP)\n",
    "* new *exact* algorithm, based on Python's generators ([\"Statues algorithm\"](https://arxiv.org/abs/1806.09997))\n",
    "* lightweight Python module (optional sympy, pandas, numpy, matplotlib modules for advanced functions)\n",
    "* open source LGPL\n",
    "\n",
    "|           | latest Lea version  | requires           |\n",
    "|-----------|---------------------|--------------------|\n",
    "|**Lea 3**  | v3.4.6 (EOL)        | Python 2.6+ / 3.x |\n",
    "|**Lea 4**  | v4.0.0              | Python 3.8+        |\n",
    "\n",
    "To install Lea 4:<br>\n",
    "`pip install lea`\n",
    "\n",
    "or execute the following in your Jupyter Notebook (remove the `#` to comment out):"
   ]
  },
  {
   "cell_type": "code",
   "execution_count": 1,
   "id": "ef5d1e3b-797b-441a-af91-408ff747b771",
   "metadata": {},
   "outputs": [],
   "source": [
    "# !pip install lea"
   ]
  },
  {
   "cell_type": "markdown",
   "id": "b208cc0d-1ea9-476a-8b16-13a20709d00a",
   "metadata": {},
   "source": [
    "Install few other optional packages, for some advanced functions:"
   ]
  },
  {
   "cell_type": "code",
   "execution_count": 2,
   "id": "dcb14060-af9a-4702-ab19-f16ddec8eb2b",
   "metadata": {},
   "outputs": [],
   "source": [
    "# --- to plot histograms --------------\n",
    "# !pip install matplotlib       \n",
    "# --- to make symbolic calculations ---\n",
    "# !pip install sympy              "
   ]
  },
  {
   "cell_type": "markdown",
   "id": "69c8d03b-171a-43ac-a617-aa4779101c16",
   "metadata": {},
   "source": [
    "Once Lea installed, import it:"
   ]
  },
  {
   "cell_type": "code",
   "execution_count": 3,
   "id": "906c74f0-a1dd-4552-a751-1d357e023b73",
   "metadata": {},
   "outputs": [],
   "source": [
    "import lea"
   ]
  },
  {
   "cell_type": "code",
   "execution_count": 4,
   "id": "dfbcdb52-2e0f-4ac4-81e8-657293081f51",
   "metadata": {},
   "outputs": [
    {
     "data": {
      "text/plain": [
       "'4.0.1b'"
      ]
     },
     "execution_count": 4,
     "metadata": {},
     "output_type": "execute_result"
    }
   ],
   "source": [
    "lea.__version__"
   ]
  },
  {
   "cell_type": "markdown",
   "id": "433d70fd-b8f0-4e3d-b22f-70899ab483d1",
   "metadata": {},
   "source": [
    "**Let's build a fair coin:** <img src=\"coin.png\"/>"
   ]
  },
  {
   "cell_type": "code",
   "execution_count": 5,
   "id": "d3c15847-b38a-4fe5-b2db-b5f3574e17cc",
   "metadata": {},
   "outputs": [
    {
     "data": {
      "text/plain": [
       "Head : 0.5\n",
       "Tail : 0.5"
      ]
     },
     "execution_count": 5,
     "metadata": {},
     "output_type": "execute_result"
    }
   ],
   "source": [
    "coin = lea.vals(\"Head\", \"Tail\")\n",
    "coin"
   ]
  },
  {
   "cell_type": "markdown",
   "id": "4a673f03-1be8-4556-90ca-b32526f0d26c",
   "metadata": {},
   "source": [
    "*Mmmh... I prefer to see probabilities as fractions:*"
   ]
  },
  {
   "cell_type": "code",
   "execution_count": 6,
   "id": "86407d2c-e834-4881-b99b-3d4c765b27fc",
   "metadata": {},
   "outputs": [],
   "source": [
    "lea.set_prob_type(\"r\")"
   ]
  },
  {
   "cell_type": "code",
   "execution_count": 7,
   "id": "77684018-0b63-4554-b7a9-0239738b5fe2",
   "metadata": {},
   "outputs": [
    {
     "data": {
      "text/plain": [
       "Head : 1/2\n",
       "Tail : 1/2"
      ]
     },
     "execution_count": 7,
     "metadata": {},
     "output_type": "execute_result"
    }
   ],
   "source": [
    "coin = lea.vals(\"Head\", \"Tail\")\n",
    "coin"
   ]
  },
  {
   "cell_type": "markdown",
   "id": "7c6bc4e8-4abc-496f-97da-86da776ac15e",
   "metadata": {},
   "source": [
    "**Let's build now a *biased* coin:**"
   ]
  },
  {
   "cell_type": "code",
   "execution_count": 8,
   "id": "23d5288e-b1c9-4643-8ba1-8febbd7752bf",
   "metadata": {},
   "outputs": [
    {
     "data": {
      "text/plain": [
       "Head : 1/4\n",
       "Tail : 3/4"
      ]
     },
     "execution_count": 8,
     "metadata": {},
     "output_type": "execute_result"
    }
   ],
   "source": [
    "bcoin = lea.vals(\"Head\", \"Tail\", \"Tail\", \"Tail\")\n",
    "bcoin"
   ]
  },
  {
   "cell_type": "markdown",
   "id": "8fd3c402-f4d1-4662-8116-f1acc3336573",
   "metadata": {},
   "source": [
    "**or, equivalently, using a probability mass function (`pmf`):**"
   ]
  },
  {
   "cell_type": "code",
   "execution_count": 9,
   "id": "7c9f6b1e-86d7-426d-aaef-949937ea1424",
   "metadata": {},
   "outputs": [],
   "source": [
    "bcoin = lea.pmf({\"Head\": '1/4', \"Tail\": '3/4'})"
   ]
  },
  {
   "cell_type": "code",
   "execution_count": 10,
   "id": "0f832519-17e7-4057-80e3-7b6752cffd13",
   "metadata": {},
   "outputs": [
    {
     "data": {
      "image/png": "[encoded data removed]",
      "text/plain": [
       "<Figure size 432x288 with 1 Axes>"
      ]
     },
     "metadata": {
      "needs_background": "light"
     },
     "output_type": "display_data"
    }
   ],
   "source": [
    "bcoin.plot()"
   ]
  },
  {
   "cell_type": "markdown",
   "id": "23de9eb6-2d9d-4804-a21b-7bda07eb08b8",
   "metadata": {},
   "source": [
    "**Let's throw the biased coin 100 times:**"
   ]
  },
  {
   "cell_type": "code",
   "execution_count": 11,
   "id": "147831ff-7407-40ec-b108-5757d6400c81",
   "metadata": {},
   "outputs": [
    {
     "name": "stdout",
     "output_type": "stream",
     "text": [
      "('Head', 'Tail', 'Tail', 'Tail', 'Tail', 'Tail', 'Tail', 'Tail', 'Head', 'Tail', 'Tail', 'Head', 'Tail', 'Tail', 'Head', 'Head', 'Tail', 'Tail', 'Head', 'Tail', 'Tail', 'Tail', 'Tail', 'Tail', 'Head', 'Head', 'Tail', 'Tail', 'Tail', 'Tail', 'Tail', 'Head', 'Head', 'Tail', 'Head', 'Head', 'Tail', 'Tail', 'Head', 'Tail', 'Tail', 'Tail', 'Head', 'Head', 'Tail', 'Tail', 'Tail', 'Tail', 'Tail', 'Head', 'Head', 'Tail', 'Tail', 'Tail', 'Tail', 'Head', 'Tail', 'Tail', 'Tail', 'Head', 'Tail', 'Tail', 'Head', 'Tail', 'Head', 'Tail', 'Tail', 'Head', 'Tail', 'Tail', 'Tail', 'Head', 'Tail', 'Tail', 'Head', 'Tail', 'Tail', 'Head', 'Tail', 'Head', 'Head', 'Head', 'Tail', 'Head', 'Tail', 'Tail', 'Tail', 'Tail', 'Head', 'Head', 'Tail', 'Tail', 'Tail', 'Tail', 'Head', 'Head', 'Tail', 'Head', 'Head', 'Tail')\n"
     ]
    }
   ],
   "source": [
    "sample = bcoin.random(100)\n",
    "print(sample)"
   ]
  },
  {
   "cell_type": "markdown",
   "id": "77a8d3e5-6672-4ffe-86aa-4b0cc1fb806c",
   "metadata": {},
   "source": [
    "**Q**: How can I check that frequencies follow the probabilities of the biased coin?<br>\n",
    "**A**: Use Lea!"
   ]
  },
  {
   "cell_type": "code",
   "execution_count": 12,
   "id": "928fea16-00bd-42d9-b790-7b17e7ac1cb8",
   "metadata": {},
   "outputs": [
    {
     "data": {
      "text/plain": [
       "Head :  7/20\n",
       "Tail : 13/20"
      ]
     },
     "execution_count": 12,
     "metadata": {},
     "output_type": "execute_result"
    }
   ],
   "source": [
    "lea.vals(*sample)"
   ]
  },
  {
   "cell_type": "markdown",
   "id": "1d696223-df6a-4647-b1f1-c20bb4f4f697",
   "metadata": {},
   "source": [
    "**You may also apply transformations on Lea instances:**<br>\n",
    "Python's indexing and method calls are transferred to inner values."
   ]
  },
  {
   "cell_type": "code",
   "execution_count": 13,
   "id": "413771c8-5c09-4482-9cc4-c37c20e2827b",
   "metadata": {},
   "outputs": [
    {
     "data": {
      "text/plain": [
       "H : 1/4\n",
       "T : 3/4"
      ]
     },
     "execution_count": 13,
     "metadata": {},
     "output_type": "execute_result"
    }
   ],
   "source": [
    "bcoin[0]"
   ]
  },
  {
   "cell_type": "code",
   "execution_count": 14,
   "id": "a97c8026-f53f-405c-9497-b45fc115e23d",
   "metadata": {},
   "outputs": [
    {
     "data": {
      "text/plain": [
       "h : 1/4\n",
       "t : 3/4"
      ]
     },
     "execution_count": 14,
     "metadata": {},
     "output_type": "execute_result"
    }
   ],
   "source": [
    "bcoin[0].lower()"
   ]
  },
  {
   "cell_type": "code",
   "execution_count": 15,
   "id": "d9f32ac0-ac3d-4141-a90d-c8814e26e487",
   "metadata": {},
   "outputs": [
    {
     "data": {
      "text/plain": [
       "4 : 1"
      ]
     },
     "execution_count": 15,
     "metadata": {},
     "output_type": "execute_result"
    }
   ],
   "source": [
    "bcoin.map(len)"
   ]
  },
  {
   "cell_type": "markdown",
   "id": "48f57d05-ce1b-42ad-93ed-2a53a7126942",
   "metadata": {},
   "source": [
    "... and Python's `+` `-` `*` `/` `<` `<=`... operators are overloaded:"
   ]
  },
  {
   "cell_type": "code",
   "execution_count": 16,
   "id": "e3205fad-eb26-4e58-9a7c-7df12c3cdc83",
   "metadata": {},
   "outputs": [
    {
     "data": {
      "text/plain": [
       "This is Head! : 1/4\n",
       "This is Tail! : 3/4"
      ]
     },
     "execution_count": 16,
     "metadata": {},
     "output_type": "execute_result"
    }
   ],
   "source": [
    "\"This is \" + bcoin + \"!\""
   ]
  },
  {
   "cell_type": "code",
   "execution_count": 17,
   "id": "bab602ef-c851-41c7-bb18-bb4a3913045b",
   "metadata": {},
   "outputs": [
    {
     "data": {
      "text/plain": [
       "Head                     : 1/24\n",
       "HeadHead                 : 1/24\n",
       "HeadHeadHead             : 1/24\n",
       "HeadHeadHeadHead         : 1/24\n",
       "HeadHeadHeadHeadHead     : 1/24\n",
       "HeadHeadHeadHeadHeadHead : 1/24\n",
       "Tail                     : 3/24\n",
       "TailTail                 : 3/24\n",
       "TailTailTail             : 3/24\n",
       "TailTailTailTail         : 3/24\n",
       "TailTailTailTailTail     : 3/24\n",
       "TailTailTailTailTailTail : 3/24"
      ]
     },
     "execution_count": 17,
     "metadata": {},
     "output_type": "execute_result"
    }
   ],
   "source": [
    "die = lea.vals(1,2,3,4,5,6)\n",
    "die * bcoin"
   ]
  },
  {
   "cell_type": "markdown",
   "id": "d52315f2-5ccf-448c-89d3-a29feedbe90a",
   "metadata": {},
   "source": [
    "**Let's throw now *two* biased coins:**' <img src=\"coin.png\"/><img src=\"coin.png\"/><br>\n",
    "`x.new(n)` creates `n` independent events, clones of `x` (same probability distribution):"
   ]
  },
  {
   "cell_type": "code",
   "execution_count": 18,
   "id": "e2c1feda-495f-43fc-b502-8b2284a523c9",
   "metadata": {},
   "outputs": [],
   "source": [
    "bcoin1, bcoin2 = bcoin.new(2)"
   ]
  },
  {
   "cell_type": "code",
   "execution_count": 19,
   "id": "cdd3d48b-6e1b-4633-a627-3940e4d64fe9",
   "metadata": {},
   "outputs": [
    {
     "data": {
      "text/plain": [
       "Head Head : 1/16\n",
       "Head Tail : 3/16\n",
       "Tail Head : 3/16\n",
       "Tail Tail : 9/16"
      ]
     },
     "execution_count": 19,
     "metadata": {},
     "output_type": "execute_result"
    }
   ],
   "source": [
    "bcoins = bcoin1 + \" \" + bcoin2\n",
    "bcoins"
   ]
  },
  {
   "cell_type": "markdown",
   "id": "4b98249e-c51e-43c5-85af-e0196920b1dd",
   "metadata": {},
   "source": [
    "**Conditional probability $P(A|B)$: `A.given(B)`**"
   ]
  },
  {
   "cell_type": "code",
   "execution_count": 20,
   "id": "5006fe8d-b26e-4a2b-a6fb-ed51408e3cf1",
   "metadata": {},
   "outputs": [
    {
     "data": {
      "text/plain": [
       "Tail Head : 1/4\n",
       "Tail Tail : 3/4"
      ]
     },
     "execution_count": 20,
     "metadata": {},
     "output_type": "execute_result"
    }
   ],
   "source": [
    "bcoins.given(bcoin1==\"Tail\")"
   ]
  },
  {
   "cell_type": "markdown",
   "id": "7658d6bb-3c42-448e-b697-7fb6cac529b2",
   "metadata": {},
   "source": [
    "Note: `bcoins` is dependent of `bcoin1` and `bcoin2`.<br>\n",
    "<center><img src=\"bcoins.png\"/></center>\n",
    "\n",
    "Lea does ***lazy evaluation*** (see \"*referential consistency*\", in [Statues algorithm's arXiv paper](https://arxiv.org/abs/1806.09997)) "
   ]
  },
  {
   "cell_type": "markdown",
   "id": "0623e282-9f98-4fdf-b90d-51670384851f",
   "metadata": {},
   "source": [
    "**Lea handles also Boolean events and associated operators `&` (AND) `|` (OR) `~` (NOT):**"
   ]
  },
  {
   "cell_type": "code",
   "execution_count": 21,
   "id": "c50caa87-fc1c-4428-83e0-8b5c4377c31e",
   "metadata": {},
   "outputs": [
    {
     "data": {
      "text/plain": [
       "False :  1/42\n",
       "True  : 41/42"
      ]
     },
     "execution_count": 21,
     "metadata": {},
     "output_type": "execute_result"
    }
   ],
   "source": [
    "to_be = lea.event('41/42')\n",
    "to_be"
   ]
  },
  {
   "cell_type": "code",
   "execution_count": 22,
   "id": "7de0bee4-5524-4472-9bd8-9344c238d625",
   "metadata": {},
   "outputs": [
    {
     "data": {
      "text/plain": [
       "True : 1"
      ]
     },
     "execution_count": 22,
     "metadata": {},
     "output_type": "execute_result"
    }
   ],
   "source": [
    "to_be | ~to_be"
   ]
  },
  {
   "cell_type": "markdown",
   "id": "15f44985-6531-4da5-9371-c02bf01fcc2c",
   "metadata": {},
   "source": [
    "Note: Lea's `P` function allows extracting the probability of `True`."
   ]
  },
  {
   "cell_type": "code",
   "execution_count": 23,
   "id": "1bafa983-76cc-4882-b7ac-0537684335a0",
   "metadata": {},
   "outputs": [
    {
     "data": {
      "text/plain": [
       "41/42"
      ]
     },
     "execution_count": 23,
     "metadata": {},
     "output_type": "execute_result"
    }
   ],
   "source": [
    "from lea import P\n",
    "P(to_be)"
   ]
  },
  {
   "cell_type": "markdown",
   "id": "7fedbd1a-0ee8-4309-a679-a691d5b1dbb8",
   "metadata": {},
   "source": [
    "## Some funny puzzles"
   ]
  },
  {
   "cell_type": "markdown",
   "id": "09ed26ef-b098-43d4-98f3-1db02a9c03ac",
   "metadata": {},
   "source": [
    "### One Ace in three throws \n",
    "<center><img src=\"TheDoctrineOfChance.png\"/></center>\n",
    "\n",
    "**<p style=\"text-align: center;\">from \"The Doctrine of Chance\", by A. de Moivre, 1718</p>**"
   ]
  },
  {
   "cell_type": "code",
   "execution_count": 24,
   "id": "fd0aae4f-c3d6-465a-9910-253134ad1d3e",
   "metadata": {},
   "outputs": [
    {
     "data": {
      "text/plain": [
       "91/216"
      ]
     },
     "execution_count": 24,
     "metadata": {},
     "output_type": "execute_result"
    }
   ],
   "source": [
    "d1, d2, d3 = lea.vals(1,2,3,4,5,6).new(3)\n",
    "P((d1==1) | (d2==1) | (d3==1))"
   ]
  },
  {
   "cell_type": "markdown",
   "id": "cb04a1d3-bebe-4734-a4ec-ccb3455c3d94",
   "metadata": {},
   "source": [
    "### Dwarf vs cave troll (RPG Combat)\n",
    "<center><img src=\"Drong_M01.jpg\"/><img src=\"gw-99060209197.jpg\"/></center>\n",
    "\n",
    "***<p style=\"text-align: center;\">... Then, Bashful the dwarf strikes the cave troll with his magic axe. Eeeeh-aaaaaah!</p>***"
   ]
  },
  {
   "cell_type": "code",
   "execution_count": 25,
   "id": "dbbd18e9-eb87-4a41-8f12-771e58a00f22",
   "metadata": {},
   "outputs": [],
   "source": [
    "lea.set_prob_type(\"f\")\n",
    "lea.set_display_options(kind='%', nb_decimals=2)"
   ]
  },
  {
   "cell_type": "code",
   "execution_count": 26,
   "id": "38eea765-5a96-4d38-b886-98effd49dcc7",
   "metadata": {},
   "outputs": [],
   "source": [
    "D6 = lea.interval(1, 6)\n",
    "D20 = lea.interval(1, 20)"
   ]
  },
  {
   "cell_type": "markdown",
   "id": "ff74801b-7d20-49c2-94b5-2d7eaf4a35a6",
   "metadata": {},
   "source": [
    "**Bashful's attack roll is D20+4. The troll is hit if this roll is greater than troll's armor class, which is 18.**"
   ]
  },
  {
   "cell_type": "code",
   "execution_count": 27,
   "id": "193a5c96-333c-4296-9109-c7917175b626",
   "metadata": {},
   "outputs": [
    {
     "name": "stdout",
     "output_type": "stream",
     "text": [
      "Probability that Bashful hits the troll: 35.00 %\n"
     ]
    }
   ],
   "source": [
    "attack_roll = D20.new() + 4\n",
    "troll_armor_class = 18\n",
    "hit = attack_roll >= troll_armor_class\n",
    "print (f\"Probability that Bashful hits the troll: {(P(hit))}\")"
   ]
  },
  {
   "cell_type": "markdown",
   "id": "d4f30333-6fdd-4758-8af2-35b4cece8c63",
   "metadata": {},
   "source": [
    "**The damage of the magic axe is 2D6+5...**"
   ]
  },
  {
   "cell_type": "code",
   "execution_count": 28,
   "id": "3742ac15-5f6c-4d86-9762-4863402fef02",
   "metadata": {},
   "outputs": [
    {
     "data": {
      "image/png": "[encoded data removed]",
      "text/plain": [
       "<Figure size 432x288 with 1 Axes>"
      ]
     },
     "metadata": {
      "needs_background": "light"
     },
     "output_type": "display_data"
    }
   ],
   "source": [
    "damage_if_hit = D6.times(2) + 5\n",
    "damage_if_hit.plot()"
   ]
  },
  {
   "cell_type": "markdown",
   "id": "99eca559-2daf-45d1-985e-c9ac1903e519",
   "metadata": {},
   "source": [
    "**...but this applies only if the hit succeeds:**"
   ]
  },
  {
   "cell_type": "code",
   "execution_count": 29,
   "id": "4bf73559-bc46-442e-94a5-43cbfd09f04b",
   "metadata": {},
   "outputs": [
    {
     "data": {
      "image/png": "[encoded data removed]",
      "text/plain": [
       "<Figure size 432x288 with 1 Axes>"
      ]
     },
     "metadata": {
      "needs_background": "light"
     },
     "output_type": "display_data"
    }
   ],
   "source": [
    "damage = lea.if_(hit, damage_if_hit, 0)\n",
    "damage.plot()"
   ]
  },
  {
   "cell_type": "markdown",
   "id": "2c97f286-559b-438a-9367-23d49550d13a",
   "metadata": {},
   "source": [
    "**Assuming that the troll has 20 health points remaining, what's the probability to kill him in four rounds or less.**"
   ]
  },
  {
   "cell_type": "code",
   "execution_count": 30,
   "id": "ff24c61a-94cf-46a8-b76f-1bcdf86f3fb5",
   "metadata": {},
   "outputs": [
    {
     "data": {
      "text/plain": [
       "40.68 %"
      ]
     },
     "execution_count": 30,
     "metadata": {},
     "output_type": "execute_result"
    }
   ],
   "source": [
    "troll_hp = 20\n",
    "P(troll_hp - damage.times(4) <= 0)"
   ]
  },
  {
   "cell_type": "markdown",
   "id": "16d5a1be-dc13-4f9c-9953-f513e087e485",
   "metadata": {},
   "source": [
    "See also [**Dice Tools**](https://github.com/hindsm38/dice_tools), a Python package using Lea dedicated to dice based tabletop games."
   ]
  },
  {
   "cell_type": "code",
   "execution_count": 31,
   "id": "65d9ed53-b58f-4de9-bd77-6508e485c99f",
   "metadata": {},
   "outputs": [],
   "source": [
    "lea.set_prob_type('r')\n",
    "lea.set_display_options(kind='/')"
   ]
  },
  {
   "cell_type": "markdown",
   "id": "78868a02-b176-4d4a-bf2b-316ae0b42a7f",
   "metadata": {},
   "source": [
    "### The intransitive dice \n",
    "<center><img src=\"Intransitive_dice.png\"/></center>\n",
    "\n",
    "* The RED die has sides 2, 2, 4, 4, 9, 9.\n",
    "* The GREEN die has sides 1, 1, 6, 6, 8, 8.\n",
    "* The BLUE die has sides 3, 3, 5, 5, 7, 7.\n"
   ]
  },
  {
   "cell_type": "code",
   "execution_count": 32,
   "id": "6a30a943-7279-4e86-b6cf-ada8af1cfc9f",
   "metadata": {},
   "outputs": [],
   "source": [
    "red_die   = lea.vals(2, 2, 4, 4, 9, 9)\n",
    "green_die = lea.vals(1, 1, 6, 6, 8, 8)\n",
    "blue_die  = lea.vals(3, 3, 5, 5, 7, 7)"
   ]
  },
  {
   "cell_type": "markdown",
   "id": "34102701-ee72-4630-be7f-6729bfd8dcf0",
   "metadata": {},
   "source": [
    " What are the means of these dice?"
   ]
  },
  {
   "cell_type": "code",
   "execution_count": 33,
   "id": "aacbdf23-df36-4b6d-abdf-6c3b49d597dc",
   "metadata": {},
   "outputs": [
    {
     "data": {
      "text/plain": [
       "[5.0, 5.0, 5.0]"
      ]
     },
     "execution_count": 33,
     "metadata": {},
     "output_type": "execute_result"
    }
   ],
   "source": [
    "[die.mean() for die in (red_die, green_die, blue_die)]"
   ]
  },
  {
   "cell_type": "markdown",
   "id": "2f7d8d4f-2bfd-4020-bed4-50aa70d49395",
   "metadata": {},
   "source": [
    "OK, the three dice have the same means. But..."
   ]
  },
  {
   "cell_type": "code",
   "execution_count": 34,
   "id": "6c49d562-c177-4830-9aa4-ec3f9d0c2a4c",
   "metadata": {},
   "outputs": [
    {
     "data": {
      "text/plain": [
       "'The RED die beats the GREEN die with prob. 5/9.'"
      ]
     },
     "execution_count": 34,
     "metadata": {},
     "output_type": "execute_result"
    }
   ],
   "source": [
    "f\"The RED die beats the GREEN die with prob. {P(red_die > green_die)}.\""
   ]
  },
  {
   "cell_type": "code",
   "execution_count": 35,
   "id": "521f9efc-1d6c-4030-81cd-a731eb11a646",
   "metadata": {},
   "outputs": [
    {
     "data": {
      "text/plain": [
       "'The GREEN die beats the BLUE die with prob. 5/9.'"
      ]
     },
     "execution_count": 35,
     "metadata": {},
     "output_type": "execute_result"
    }
   ],
   "source": [
    "f\"The GREEN die beats the BLUE die with prob. {P(green_die > blue_die)}.\""
   ]
  },
  {
   "cell_type": "code",
   "execution_count": 36,
   "id": "34a1a0b8-7877-4a4d-bcf8-41c5dede7df3",
   "metadata": {},
   "outputs": [
    {
     "data": {
      "text/plain": [
       "'The BLUE die beats the RED die with prob. 5/9.'"
      ]
     },
     "execution_count": 36,
     "metadata": {},
     "output_type": "execute_result"
    }
   ],
   "source": [
    "f\"The BLUE die beats the RED die with prob. {P(blue_die > red_die)}.\""
   ]
  },
  {
   "cell_type": "markdown",
   "id": "73835a62-1dc8-4685-88db-13c44fbf5fc0",
   "metadata": {},
   "source": [
    "These probabilities can be checked using the `joint` function:"
   ]
  },
  {
   "cell_type": "code",
   "execution_count": 37,
   "id": "e7002e1b-fccf-4034-8433-a2e77436ae1a",
   "metadata": {},
   "outputs": [
    {
     "data": {
      "text/plain": [
       "(2, 1, True ) : 1/9\n",
       "(2, 6, False) : 1/9\n",
       "(2, 8, False) : 1/9\n",
       "(4, 1, True ) : 1/9\n",
       "(4, 6, False) : 1/9\n",
       "(4, 8, False) : 1/9\n",
       "(9, 1, True ) : 1/9\n",
       "(9, 6, True ) : 1/9\n",
       "(9, 8, True ) : 1/9"
      ]
     },
     "execution_count": 37,
     "metadata": {},
     "output_type": "execute_result"
    }
   ],
   "source": [
    "lea.joint(red_die, green_die, red_die>green_die)"
   ]
  },
  {
   "cell_type": "code",
   "execution_count": 38,
   "id": "2b86dab9-d5a0-4b2e-8f45-686634cca8c9",
   "metadata": {},
   "outputs": [
    {
     "data": {
      "text/plain": [
       "(1, 3, False) : 1/9\n",
       "(1, 5, False) : 1/9\n",
       "(1, 7, False) : 1/9\n",
       "(6, 3, True ) : 1/9\n",
       "(6, 5, True ) : 1/9\n",
       "(6, 7, False) : 1/9\n",
       "(8, 3, True ) : 1/9\n",
       "(8, 5, True ) : 1/9\n",
       "(8, 7, True ) : 1/9"
      ]
     },
     "execution_count": 38,
     "metadata": {},
     "output_type": "execute_result"
    }
   ],
   "source": [
    "lea.joint(green_die, blue_die, green_die>blue_die)"
   ]
  },
  {
   "cell_type": "code",
   "execution_count": 39,
   "id": "86f4476b-330d-4281-a1b5-f77132e6a215",
   "metadata": {},
   "outputs": [
    {
     "data": {
      "text/plain": [
       "(3, 2, True ) : 1/9\n",
       "(3, 4, False) : 1/9\n",
       "(3, 9, False) : 1/9\n",
       "(5, 2, True ) : 1/9\n",
       "(5, 4, True ) : 1/9\n",
       "(5, 9, False) : 1/9\n",
       "(7, 2, True ) : 1/9\n",
       "(7, 4, True ) : 1/9\n",
       "(7, 9, False) : 1/9"
      ]
     },
     "execution_count": 39,
     "metadata": {},
     "output_type": "execute_result"
    }
   ],
   "source": [
    "lea.joint(blue_die, red_die, blue_die>red_die)"
   ]
  },
  {
   "cell_type": "markdown",
   "id": "516b6d60-de88-4096-8b54-6735c5031d66",
   "metadata": {},
   "source": [
    "### Boys or girls paradox\n",
    "<center><img src=\"boy_and_girl.jpg\"/></center>\n",
    "\n",
    "See [Boy or girl paradox on Wikipedia](https://en.wikipedia.org/wiki/https://en.wikipedia.org/wiki/Boy_or_girl_paradox)."
   ]
  },
  {
   "cell_type": "markdown",
   "id": "b4365cb1-e37e-44a9-9a8e-baf66a5900bc",
   "metadata": {},
   "source": [
    "---\n",
    "***The chances to be boy or girl are even.***\n",
    "\n",
    "---"
   ]
  },
  {
   "cell_type": "code",
   "execution_count": 40,
   "id": "44cf7256-cf33-439a-9cd7-932366421d1d",
   "metadata": {},
   "outputs": [
    {
     "data": {
      "text/plain": [
       "boy  : 1/2\n",
       "girl : 1/2"
      ]
     },
     "execution_count": 40,
     "metadata": {},
     "output_type": "execute_result"
    }
   ],
   "source": [
    "child = lea.vals('boy', 'girl')\n",
    "child"
   ]
  },
  {
   "cell_type": "markdown",
   "id": "39b30b45-dff5-47e6-b635-39726afc7c58",
   "metadata": {},
   "source": [
    "---\n",
    "***Mr. Smith has two children. At least one of them is a boy.<br>\n",
    "What is the probability that both children are boys?***\n",
    "\n",
    "---"
   ]
  },
  {
   "cell_type": "code",
   "execution_count": 41,
   "id": "809e6a9b-0dde-4fc3-b95c-439bd1f893a0",
   "metadata": {},
   "outputs": [
    {
     "data": {
      "text/plain": [
       "1/3"
      ]
     },
     "execution_count": 41,
     "metadata": {},
     "output_type": "execute_result"
    }
   ],
   "source": [
    "children = lea.joint(child.new(), child.new())\n",
    "nb_boys = children.count('boy')\n",
    "P((nb_boys == 2).given(nb_boys >= 1))"
   ]
  },
  {
   "cell_type": "markdown",
   "id": "98aa5bd6-c670-4167-a49b-45d7635ac62c",
   "metadata": {},
   "source": [
    "Explanation:"
   ]
  },
  {
   "cell_type": "code",
   "execution_count": 42,
   "id": "9c5503a5-c901-4b8b-9c69-710846a7c0ae",
   "metadata": {},
   "outputs": [
    {
     "data": {
      "text/plain": [
       "('boy' , 'boy' , 2) : 1/3\n",
       "('boy' , 'girl', 1) : 1/3\n",
       "('girl', 'boy' , 1) : 1/3"
      ]
     },
     "execution_count": 42,
     "metadata": {},
     "output_type": "execute_result"
    }
   ],
   "source": [
    "lea.joint(children[0], children[1], nb_boys).given(nb_boys >= 1)"
   ]
  },
  {
   "cell_type": "markdown",
   "id": "d43fc858-57bb-4c70-929a-f16bb0c5a378",
   "metadata": {},
   "source": [
    "---\n",
    "***Mrs. White has seven children. The eldest is a boy and he's got three brothers at least.<br>\n",
    "What is the probability that all children are boys?***\n",
    "\n",
    "---"
   ]
  },
  {
   "cell_type": "code",
   "execution_count": 43,
   "id": "24bfdcb0-7e7b-4543-a6b9-b44003186d7e",
   "metadata": {},
   "outputs": [
    {
     "data": {
      "text/plain": [
       "1/42"
      ]
     },
     "execution_count": 43,
     "metadata": {},
     "output_type": "execute_result"
    }
   ],
   "source": [
    "children = lea.joint(*child.new(7))\n",
    "eldest = children[0]\n",
    "nb_boys = children.count('boy')\n",
    "P((nb_boys == 7).given(eldest == 'boy', nb_boys >= 4))"
   ]
  },
  {
   "cell_type": "markdown",
   "id": "b72d2336-d9dc-4da9-855c-d1286214dc14",
   "metadata": {},
   "source": [
    "Explanation:"
   ]
  },
  {
   "cell_type": "code",
   "execution_count": 44,
   "id": "aff2516e-05d6-4ecb-ae2c-b46af28945d1",
   "metadata": {},
   "outputs": [
    {
     "data": {
      "text/plain": [
       "(('boy', 'boy', 'boy', 'boy', 'boy', 'boy', 'boy')   , 7) : 1/42\n",
       "(('boy', 'boy', 'boy', 'boy', 'boy', 'boy', 'girl')  , 6) : 1/42\n",
       "(('boy', 'boy', 'boy', 'boy', 'boy', 'girl', 'boy')  , 6) : 1/42\n",
       "(('boy', 'boy', 'boy', 'boy', 'boy', 'girl', 'girl') , 5) : 1/42\n",
       "(('boy', 'boy', 'boy', 'boy', 'girl', 'boy', 'boy')  , 6) : 1/42\n",
       "(('boy', 'boy', 'boy', 'boy', 'girl', 'boy', 'girl') , 5) : 1/42\n",
       "(('boy', 'boy', 'boy', 'boy', 'girl', 'girl', 'boy') , 5) : 1/42\n",
       "(('boy', 'boy', 'boy', 'boy', 'girl', 'girl', 'girl'), 4) : 1/42\n",
       "(('boy', 'boy', 'boy', 'girl', 'boy', 'boy', 'boy')  , 6) : 1/42\n",
       "(('boy', 'boy', 'boy', 'girl', 'boy', 'boy', 'girl') , 5) : 1/42\n",
       "(('boy', 'boy', 'boy', 'girl', 'boy', 'girl', 'boy') , 5) : 1/42\n",
       "(('boy', 'boy', 'boy', 'girl', 'boy', 'girl', 'girl'), 4) : 1/42\n",
       "(('boy', 'boy', 'boy', 'girl', 'girl', 'boy', 'boy') , 5) : 1/42\n",
       "(('boy', 'boy', 'boy', 'girl', 'girl', 'boy', 'girl'), 4) : 1/42\n",
       "(('boy', 'boy', 'boy', 'girl', 'girl', 'girl', 'boy'), 4) : 1/42\n",
       "(('boy', 'boy', 'girl', 'boy', 'boy', 'boy', 'boy')  , 6) : 1/42\n",
       "(('boy', 'boy', 'girl', 'boy', 'boy', 'boy', 'girl') , 5) : 1/42\n",
       "(('boy', 'boy', 'girl', 'boy', 'boy', 'girl', 'boy') , 5) : 1/42\n",
       "(('boy', 'boy', 'girl', 'boy', 'boy', 'girl', 'girl'), 4) : 1/42\n",
       "(('boy', 'boy', 'girl', 'boy', 'girl', 'boy', 'boy') , 5) : 1/42\n",
       "(('boy', 'boy', 'girl', 'boy', 'girl', 'boy', 'girl'), 4) : 1/42\n",
       "(('boy', 'boy', 'girl', 'boy', 'girl', 'girl', 'boy'), 4) : 1/42\n",
       "(('boy', 'boy', 'girl', 'girl', 'boy', 'boy', 'boy') , 5) : 1/42\n",
       "(('boy', 'boy', 'girl', 'girl', 'boy', 'boy', 'girl'), 4) : 1/42\n",
       "(('boy', 'boy', 'girl', 'girl', 'boy', 'girl', 'boy'), 4) : 1/42\n",
       "(('boy', 'boy', 'girl', 'girl', 'girl', 'boy', 'boy'), 4) : 1/42\n",
       "(('boy', 'girl', 'boy', 'boy', 'boy', 'boy', 'boy')  , 6) : 1/42\n",
       "(('boy', 'girl', 'boy', 'boy', 'boy', 'boy', 'girl') , 5) : 1/42\n",
       "(('boy', 'girl', 'boy', 'boy', 'boy', 'girl', 'boy') , 5) : 1/42\n",
       "(('boy', 'girl', 'boy', 'boy', 'boy', 'girl', 'girl'), 4) : 1/42\n",
       "(('boy', 'girl', 'boy', 'boy', 'girl', 'boy', 'boy') , 5) : 1/42\n",
       "(('boy', 'girl', 'boy', 'boy', 'girl', 'boy', 'girl'), 4) : 1/42\n",
       "(('boy', 'girl', 'boy', 'boy', 'girl', 'girl', 'boy'), 4) : 1/42\n",
       "(('boy', 'girl', 'boy', 'girl', 'boy', 'boy', 'boy') , 5) : 1/42\n",
       "(('boy', 'girl', 'boy', 'girl', 'boy', 'boy', 'girl'), 4) : 1/42\n",
       "(('boy', 'girl', 'boy', 'girl', 'boy', 'girl', 'boy'), 4) : 1/42\n",
       "(('boy', 'girl', 'boy', 'girl', 'girl', 'boy', 'boy'), 4) : 1/42\n",
       "(('boy', 'girl', 'girl', 'boy', 'boy', 'boy', 'boy') , 5) : 1/42\n",
       "(('boy', 'girl', 'girl', 'boy', 'boy', 'boy', 'girl'), 4) : 1/42\n",
       "(('boy', 'girl', 'girl', 'boy', 'boy', 'girl', 'boy'), 4) : 1/42\n",
       "(('boy', 'girl', 'girl', 'boy', 'girl', 'boy', 'boy'), 4) : 1/42\n",
       "(('boy', 'girl', 'girl', 'girl', 'boy', 'boy', 'boy'), 4) : 1/42"
      ]
     },
     "execution_count": 44,
     "metadata": {},
     "output_type": "execute_result"
    }
   ],
   "source": [
    "lea.joint(children, nb_boys).given(eldest == 'boy', nb_boys >= 4)"
   ]
  },
  {
   "cell_type": "markdown",
   "id": "3e58f14e-6e0e-499b-aed9-1446be1da685",
   "metadata": {},
   "source": [
    "### The Monty Hall problem\n",
    "<center><img src=\"Monty_open_door.png\"/></center>\n",
    "\n",
    "See [Monty Hall problem on Wikipedia](https://en.wikipedia.org/wiki/Monty_Hall_problem).\n",
    "\n",
    "***Suppose you're on a game show, and you're given the choice of three doors: Behind one door is a car; behind the others, goats. You pick a door, say No. 1, and the host, who knows what's behind the doors, opens another door, say No. 3, which has a goat. He then says to you, \"Do you want to pick door No. 2?\" Is it to your advantage to switch your choice?***"
   ]
  },
  {
   "cell_type": "code",
   "execution_count": 45,
   "id": "9f9f2fb0-769b-41ab-87af-94f372b4c3db",
   "metadata": {},
   "outputs": [
    {
     "data": {
      "text/plain": [
       "('door 1', 'door 1', 'door 2') : 1/18\n",
       "('door 1', 'door 1', 'door 3') : 1/18\n",
       "('door 1', 'door 2', 'door 3') : 2/18\n",
       "('door 1', 'door 3', 'door 2') : 2/18\n",
       "('door 2', 'door 1', 'door 3') : 2/18\n",
       "('door 2', 'door 2', 'door 1') : 1/18\n",
       "('door 2', 'door 2', 'door 3') : 1/18\n",
       "('door 2', 'door 3', 'door 1') : 2/18\n",
       "('door 3', 'door 1', 'door 2') : 2/18\n",
       "('door 3', 'door 2', 'door 1') : 2/18\n",
       "('door 3', 'door 3', 'door 1') : 1/18\n",
       "('door 3', 'door 3', 'door 2') : 1/18"
      ]
     },
     "execution_count": 45,
     "metadata": {},
     "output_type": "execute_result"
    }
   ],
   "source": [
    "door = \"door \" + lea.vals(*\"123\")\n",
    "prize = door.new()\n",
    "choice1 = door.new()\n",
    "goat = door.such_that(door != choice1, door != prize)\n",
    "lea.joint(prize, choice1, goat)"
   ]
  },
  {
   "cell_type": "markdown",
   "id": "2ba46f90-06af-4e54-abe6-5406dde0f269",
   "metadata": {},
   "source": [
    "**What if I keep my initial choice?**"
   ]
  },
  {
   "cell_type": "code",
   "execution_count": 46,
   "id": "6c739cb0-7e69-42cf-97f3-b58e7a844f2e",
   "metadata": {},
   "outputs": [
    {
     "data": {
      "text/plain": [
       "1/3"
      ]
     },
     "execution_count": 46,
     "metadata": {},
     "output_type": "execute_result"
    }
   ],
   "source": [
    "P(choice1 == prize)"
   ]
  },
  {
   "cell_type": "markdown",
   "id": "faee9e0c-e258-4fcb-bd63-a4f5d55ff95d",
   "metadata": {},
   "source": [
    "**What if I change my choice?**"
   ]
  },
  {
   "cell_type": "code",
   "execution_count": 47,
   "id": "9a5c06f4-1e6b-4239-af96-4700f3223016",
   "metadata": {},
   "outputs": [
    {
     "data": {
      "text/plain": [
       "2/3"
      ]
     },
     "execution_count": 47,
     "metadata": {},
     "output_type": "execute_result"
    }
   ],
   "source": [
    "choice2 = door.such_that(door != choice1, door != goat)\n",
    "P(choice2 == prize)"
   ]
  },
  {
   "cell_type": "markdown",
   "id": "99b7b469-114a-4e5a-aee7-c401d1409af8",
   "metadata": {},
   "source": [
    "Explanation:"
   ]
  },
  {
   "cell_type": "code",
   "execution_count": 48,
   "id": "a2a2431c-1173-4f3d-8347-7b44644d2824",
   "metadata": {},
   "outputs": [
    {
     "data": {
      "text/plain": [
       "('door 1', 'door 1', 'door 2', 'door 3', False) : 1/6\n",
       "('door 1', 'door 1', 'door 3', 'door 2', False) : 1/6\n",
       "('door 2', 'door 1', 'door 3', 'door 2', True ) : 2/6\n",
       "('door 3', 'door 1', 'door 2', 'door 3', True ) : 2/6"
      ]
     },
     "execution_count": 48,
     "metadata": {},
     "output_type": "execute_result"
    }
   ],
   "source": [
    "lea.joint(prize, choice1, goat, choice2, choice2==prize).given(choice1==\"door 1\")"
   ]
  },
  {
   "cell_type": "markdown",
   "id": "c54cb21e-f444-4f9d-9b2e-c3361893d1a6",
   "metadata": {},
   "source": [
    "## Who's the (most probable) killer?"
   ]
  },
  {
   "cell_type": "markdown",
   "id": "745aac8b-9795-4110-9d1a-9989866c4e1f",
   "metadata": {},
   "source": [
    "Few configuration to have one-line / percentage display..."
   ]
  },
  {
   "cell_type": "code",
   "execution_count": 49,
   "id": "1e924a75-7761-40f7-8b54-6f2981003a1a",
   "metadata": {},
   "outputs": [],
   "source": [
    "import lea\n",
    "from lea import P, pmf, if_, event\n",
    "lea.set_prob_type(\"x\")\n",
    "lea.set_display_options(kind=\"%\", nb_decimals=2, one_line=True)"
   ]
  },
  {
   "cell_type": "markdown",
   "id": "dbd5accf-b72b-406a-a0d8-4bc8291d0fc1",
   "metadata": {},
   "source": [
    "**Let's define first the *prior* probabilities to be the killer:**"
   ]
  },
  {
   "attachments": {},
   "cell_type": "markdown",
   "id": "406f75c1-7b91-440c-962d-d873780c42d6",
   "metadata": {},
   "source": [
    "|![](ColMustard.jpg)     | ![](MrsPeacock.jpg) | ![](MrsWhite.jpg) | ![Plum](ProfPlum.jpg) |\n",
    "|:------------------------:|:---------------------:|:-------------------:|:-----------------------:|\n",
    "| Colonel Mustard: **40%**  | Mrs. Peacock: **25%**   | Mrs. White: **10%**   | Professor Plum: **25%**   |\n"
   ]
  },
  {
   "cell_type": "code",
   "execution_count": 50,
   "id": "7eef752e-1fe4-4342-8a87-80e70c37c14b",
   "metadata": {},
   "outputs": [
    {
     "data": {
      "text/plain": [
       "{ Col. Mustard:  40.00 %, Mrs. Peacock:  25.00 %, Mrs. White:  10.00 %, Prof. Plum:  25.00 % }"
      ]
     },
     "execution_count": 50,
     "metadata": {},
     "output_type": "execute_result"
    }
   ],
   "source": [
    "killer = pmf({ \"Col. Mustard\": '40 %',\n",
    "               \"Mrs. Peacock\": '25 %',\n",
    "               \"Mrs. White\"  : '10 %',\n",
    "               \"Prof. Plum\"  : '25 %' })\n",
    "killer"
   ]
  },
  {
   "cell_type": "code",
   "execution_count": 51,
   "id": "00af3be1-2888-4468-938b-77f482055c61",
   "metadata": {},
   "outputs": [
    {
     "data": {
      "image/png": "[encoded data removed]",
      "text/plain": [
       "<Figure size 432x288 with 1 Axes>"
      ]
     },
     "metadata": {
      "needs_background": "light"
     },
     "output_type": "display_data"
    }
   ],
   "source": [
    "killer.plot()"
   ]
  },
  {
   "cell_type": "markdown",
   "id": "37bbff6f-5cee-4740-97f4-b622856d833b",
   "metadata": {},
   "source": [
    "Now, let's write down the information provided by Sigmund-the-profiler..."
   ]
  },
  {
   "cell_type": "markdown",
   "id": "3e13e6ce-2923-45f3-b04a-e7a677da0890",
   "metadata": {},
   "source": [
    "> ***if** Mrs. White is the killer, <br> \n",
    "**then** she'll be absent with prob. 95 %,<br>\n",
    "**otherwise** she'll be absent with prob. 20 %*"
   ]
  },
  {
   "cell_type": "code",
   "execution_count": 52,
   "id": "a4b33a43-879d-4a56-a4d8-9de702486d6e",
   "metadata": {},
   "outputs": [
    {
     "data": {
      "text/plain": [
       "27.50 %"
      ]
     },
     "execution_count": 52,
     "metadata": {},
     "output_type": "execute_result"
    }
   ],
   "source": [
    "mrs_white_is_absent = if_( killer == \"Mrs. White\",\n",
    "                           event('95 %'),\n",
    "                           event('20 %'))\n",
    "P(mrs_white_is_absent)"
   ]
  },
  {
   "cell_type": "markdown",
   "id": "2bf91da7-bbe8-45d0-9087-5e7d498ec564",
   "metadata": {},
   "source": [
    "> ***if** Mrs. Peacock is innocent,<br>\n",
    "**then** she knows who's the killer with prob. 75 %*"
   ]
  },
  {
   "cell_type": "code",
   "execution_count": 53,
   "id": "ab9a39dc-905f-48bb-ae97-f3597570cecc",
   "metadata": {},
   "outputs": [
    {
     "data": {
      "text/plain": [
       "81.25 %"
      ]
     },
     "execution_count": 53,
     "metadata": {},
     "output_type": "execute_result"
    }
   ],
   "source": [
    "mrs_peacock_knows_killer = if_( killer != \"Mrs. Peacock\",\n",
    "                                event(' 75 %'),\n",
    "                                event('100 %') )\n",
    "P(mrs_peacock_knows_killer)"
   ]
  },
  {
   "cell_type": "markdown",
   "id": "250fa68c-11be-43d5-98bb-93d8ca336511",
   "metadata": {},
   "source": [
    "> ***if** Mrs. Peacock is the killer **or if** she knows who’s the killer<br>\n",
    "**then** she'll be drunk with prob. 50 %,<br>\n",
    "**otherwise** she'll be drunk with prob. 10 %*"
   ]
  },
  {
   "cell_type": "code",
   "execution_count": 54,
   "id": "4136844a-0ff1-4558-aa94-db5f82ff2968",
   "metadata": {},
   "outputs": [
    {
     "data": {
      "text/plain": [
       "42.50 %"
      ]
     },
     "execution_count": 54,
     "metadata": {},
     "output_type": "execute_result"
    }
   ],
   "source": [
    "mrs_peacock_is_drunk = if_( (killer == \"Mrs. Peacock\") | mrs_peacock_knows_killer,\n",
    "                            event('50 %'),\n",
    "                            event('10 %'))\n",
    "P(mrs_peacock_is_drunk)"
   ]
  },
  {
   "cell_type": "markdown",
   "id": "206104d5-1330-448d-b439-0a645e74bba8",
   "metadata": {},
   "source": [
    "> ***if** Col. Mustard is the killer, <br> \n",
    "**then** Prof. Plum will accuse him with prob. 75 %,<br>\n",
    "**otherwise** Prof. Plum will accuse him with prob. 5 %*"
   ]
  },
  {
   "cell_type": "code",
   "execution_count": 55,
   "id": "1f0c3c62-65c4-431f-9e61-3d14f1499738",
   "metadata": {},
   "outputs": [
    {
     "data": {
      "text/plain": [
       "33.00 %"
      ]
     },
     "execution_count": 55,
     "metadata": {},
     "output_type": "execute_result"
    }
   ],
   "source": [
    "prof_plum_accuses_col_mustard = if_( killer == \"Col. Mustard\",\n",
    "                                     event(\"75 %\"),\n",
    "                                     event(\" 5 %\"))\n",
    "P(prof_plum_accuses_col_mustard)"
   ]
  },
  {
   "cell_type": "markdown",
   "id": "f9b3831f-cb0b-4bf5-b7dd-1ecc5fc79886",
   "metadata": {},
   "source": [
    "Side note: what we have a done here is a ***Bayesian network***!\n",
    "<center><img src=\"killer_bn.png\"/></center>"
   ]
  },
  {
   "cell_type": "markdown",
   "id": "04e350d5-5c6a-47dd-a1d1-7a6e4ae576f1",
   "metadata": {},
   "source": [
    "**Police investigation, day #1**\n",
    "\n",
    "The day after the murder, all four suspects are called to be questioned..."
   ]
  },
  {
   "cell_type": "code",
   "execution_count": 56,
   "id": "2a7e5e1d-c16b-48b6-b85c-9dddc7a163f0",
   "metadata": {},
   "outputs": [
    {
     "data": {
      "text/plain": [
       "{ Col. Mustard:  40.00 %, Mrs. Peacock:  25.00 %, Mrs. White:  10.00 %, Prof. Plum:  25.00 % }"
      ]
     },
     "execution_count": 56,
     "metadata": {},
     "output_type": "execute_result"
    }
   ],
   "source": [
    "evidences = []\n",
    "killer.given(*evidences)"
   ]
  },
  {
   "cell_type": "markdown",
   "id": "0fef8e51-e894-4c86-bdff-f23a2b07649a",
   "metadata": {},
   "source": [
    "**+ EVIDENCE 1: Mrs. White is absent.**"
   ]
  },
  {
   "cell_type": "code",
   "execution_count": 57,
   "id": "2d032050-8ffa-454c-a46f-68c877df6215",
   "metadata": {},
   "outputs": [
    {
     "data": {
      "text/plain": [
       "{ Col. Mustard:  29.09 %, Mrs. Peacock:  18.18 %, Mrs. White:  34.55 %, Prof. Plum:  18.18 % }"
      ]
     },
     "execution_count": 57,
     "metadata": {},
     "output_type": "execute_result"
    }
   ],
   "source": [
    "evidences.append(mrs_white_is_absent)\n",
    "killer.given(*evidences)"
   ]
  },
  {
   "cell_type": "markdown",
   "id": "6a9562a6-9fff-4bd3-b92d-997e354f2f75",
   "metadata": {},
   "source": [
    "**+ EVIDENCE 2: Mrs. Peacock is drunk.**"
   ]
  },
  {
   "cell_type": "code",
   "execution_count": 58,
   "id": "a50f0590-d945-4eb8-8964-db1ade971c1f",
   "metadata": {
    "jp-MarkdownHeadingCollapsed": true
   },
   "outputs": [
    {
     "data": {
      "text/plain": [
       "{ Col. Mustard:  27.83 %, Mrs. Peacock:  21.74 %, Mrs. White:  33.04 %, Prof. Plum:  17.39 % }"
      ]
     },
     "execution_count": 58,
     "metadata": {},
     "output_type": "execute_result"
    }
   ],
   "source": [
    "evidences.append(mrs_peacock_is_drunk)\n",
    "killer.given(*evidences)"
   ]
  },
  {
   "cell_type": "markdown",
   "id": "d0a8eca5-3f45-4052-914a-b6f2288146d7",
   "metadata": {},
   "source": [
    "**+ EVIDENCE 3: Prof. Plum accuses Col. Mustard.**"
   ]
  },
  {
   "cell_type": "code",
   "execution_count": 59,
   "id": "f2e67aac-1657-4ae5-ae83-01372bac8c96",
   "metadata": {},
   "outputs": [
    {
     "data": {
      "text/plain": [
       "{ Col. Mustard:  85.26 %, Mrs. Peacock:   4.44 %, Mrs. White:   6.75 %, Prof. Plum:   3.55 % }"
      ]
     },
     "execution_count": 59,
     "metadata": {},
     "output_type": "execute_result"
    }
   ],
   "source": [
    "evidences.append(prof_plum_accuses_col_mustard)\n",
    "killer.given(*evidences)"
   ]
  },
  {
   "cell_type": "markdown",
   "id": "b33a5749-7042-4a48-8c3a-9a1e6e7beb61",
   "metadata": {},
   "source": [
    "**+ EVIDENCE 4: The killer is a woman.**"
   ]
  },
  {
   "cell_type": "code",
   "execution_count": 60,
   "id": "424ec85d-82f9-4235-b583-801c8b42c6b6",
   "metadata": {},
   "outputs": [
    {
     "data": {
      "text/plain": [
       "{ Mrs. Peacock:  39.68 %, Mrs. White:  60.32 % }"
      ]
     },
     "execution_count": 60,
     "metadata": {},
     "output_type": "execute_result"
    }
   ],
   "source": [
    "killer_is_woman = killer.startswith(\"Mrs.\")\n",
    "evidences.append(killer_is_woman)\n",
    "killer.given(*evidences)"
   ]
  },
  {
   "cell_type": "code",
   "execution_count": 61,
   "id": "6884299b-a891-4bba-986f-9913d7347e28",
   "metadata": {},
   "outputs": [
    {
     "data": {
      "text/plain": [
       "39.68 %"
      ]
     },
     "execution_count": 61,
     "metadata": {},
     "output_type": "execute_result"
    }
   ],
   "source": [
    "P((killer == \"Mrs. Peacock\").given(*evidences))"
   ]
  },
  {
   "cell_type": "code",
   "execution_count": 62,
   "id": "98b79fda-3fae-4b1c-a2e2-2c4f79d68f6f",
   "metadata": {},
   "outputs": [
    {
     "data": {
      "image/png": "[encoded data removed]",
      "text/plain": [
       "<Figure size 432x288 with 1 Axes>"
      ]
     },
     "metadata": {
      "needs_background": "light"
     },
     "output_type": "display_data"
    }
   ],
   "source": [
    "killer.given(*evidences).plot()"
   ]
  },
  {
   "cell_type": "markdown",
   "id": "8cb5c796-c08b-47bd-9ff0-ac28003aebf0",
   "metadata": {},
   "source": [
    "**Conclusions**<br>\n",
    "OK. This is just a game... but probabilities can play a decisive role in forensic science!<br>\n",
    "There are notable examples of *flaws*, notoriously the [**Dreyfus affair**](https://en.wikipedia.org/wiki/Dreyfus_affair) (1894) and the [**Sally Clark case**](https://en.wikipedia.org/wiki/Sally_Clark) (1998).<br>\n",
    "See also the [***\"prosecutor's fallacy\"***](https://en.wikipedia.org/wiki/Base_rate_fallacy)."
   ]
  },
  {
   "cell_type": "markdown",
   "id": "79d46730-97ae-4ab0-a2a1-a669504a5941",
   "metadata": {},
   "source": [
    "## Symbolic calculation\n",
    "If you have [SymPy](https://www.sympy.org/) installed, you may change any probability by a variable name.<br> \n",
    "For instance, for prior probabilities:"
   ]
  },
  {
   "cell_type": "code",
   "execution_count": 63,
   "id": "12c5db65-29af-41f3-8442-adc5e7f0d5ae",
   "metadata": {},
   "outputs": [],
   "source": [
    "lea.set_display_options(one_line=False)"
   ]
  },
  {
   "cell_type": "code",
   "execution_count": 64,
   "id": "4c129f8b-4961-42d0-8fab-69834c7739ae",
   "metadata": {},
   "outputs": [
    {
     "data": {
      "text/plain": [
       "Col. Mustard : m\n",
       "Mrs. Peacock : p\n",
       "Mrs. White   : w\n",
       "Prof. Plum   : -m - p - w + 1"
      ]
     },
     "execution_count": 64,
     "metadata": {},
     "output_type": "execute_result"
    }
   ],
   "source": [
    "killer = pmf({ \"Col. Mustard\": 'm',\n",
    "               \"Mrs. Peacock\": 'p',\n",
    "               \"Mrs. White\"  : 'w',\n",
    "               \"Prof. Plum\"  : None })\n",
    "killer"
   ]
  },
  {
   "cell_type": "markdown",
   "id": "e7615f17-d0fe-4e66-ae2e-717e8230d8e7",
   "metadata": {},
   "source": [
    "...then, redo the definition of previous rules and evidences. You'll get results as probability formulae!"
   ]
  },
  {
   "cell_type": "markdown",
   "id": "3ebd09ea-c051-4253-97b9-58fc96b1ec31",
   "metadata": {},
   "source": [
    "**Another example:**\n",
    "\n",
    "**The probablity of win is $p$ at each trial. How many wins after 5 trials?**"
   ]
  },
  {
   "cell_type": "code",
   "execution_count": 65,
   "id": "e86a0181-5595-400c-baad-4a5f0d8a9f8f",
   "metadata": {},
   "outputs": [
    {
     "data": {
      "text/plain": [
       "0 : -(p - 1)**5\n",
       "1 : 5*p*(p - 1)**4\n",
       "2 : -10*p**2*(p - 1)**3\n",
       "3 : 10*p**3*(p - 1)**2\n",
       "4 : 5*p**4*(1 - p)\n",
       "5 : p**5"
      ]
     },
     "execution_count": 65,
     "metadata": {},
     "output_type": "execute_result"
    }
   ],
   "source": [
    "nb_wins = lea.binom(5, 'p')\n",
    "nb_wins"
   ]
  },
  {
   "cell_type": "code",
   "execution_count": 66,
   "id": "da25d52e-2f8b-4ce9-8203-649cf53b1249",
   "metadata": {},
   "outputs": [
    {
     "data": {
      "text/plain": [
       "0 :  32.77 %\n",
       "1 :  40.96 %\n",
       "2 :  20.48 %\n",
       "3 :   5.12 %\n",
       "4 :   0.64 %\n",
       "5 :   0.03 %"
      ]
     },
     "execution_count": 66,
     "metadata": {},
     "output_type": "execute_result"
    }
   ],
   "source": [
    "nb_wins.assign(p=0.2)"
   ]
  },
  {
   "cell_type": "markdown",
   "id": "506bc343-3b8d-4804-8711-158acd8e5b2b",
   "metadata": {},
   "source": [
    "**Given that we win at least one time, what's the probability that to win at least 3 times?**"
   ]
  },
  {
   "cell_type": "code",
   "execution_count": 67,
   "id": "fe193df2-d93f-416a-a3a4-92ab58e4f4ec",
   "metadata": {},
   "outputs": [
    {
     "data": {
      "text/latex": [
       "$\\displaystyle \\frac{p^{2} \\left(6 p^{2} - 15 p + 10\\right)}{p^{4} - 5 p^{3} + 10 p^{2} - 10 p + 5}$"
      ],
      "text/plain": [
       "p**2*(6*p**2 - 15*p + 10)/(p**4 - 5*p**3 + 10*p**2 - 10*p + 5)"
      ]
     },
     "execution_count": 67,
     "metadata": {},
     "output_type": "execute_result"
    }
   ],
   "source": [
    "P((nb_wins >= 3).given(nb_wins >= 1))"
   ]
  },
  {
   "cell_type": "markdown",
   "id": "733820db-7d0f-43fe-880e-26ccd0fb028d",
   "metadata": {},
   "source": [
    "## A bullshit generator\n",
    "<center><img src=\"bullshit.jpg\"/></center>"
   ]
  },
  {
   "cell_type": "markdown",
   "id": "dfd9eb4f-a6ac-46a2-a9ce-c69c686ae3f1",
   "metadata": {},
   "source": [
    "Lea is used her for choosing random words and grammar rules.<br>\n",
    "The most complex rules are less likely than simplest ones."
   ]
  },
  {
   "cell_type": "code",
   "execution_count": 68,
   "id": "71f49d0c-686c-4372-8ca5-51347570371e",
   "metadata": {},
   "outputs": [],
   "source": [
    "# --- to hear the sentences (optional) ---\n",
    "# !pip install pyttsx3"
   ]
  },
  {
   "cell_type": "code",
   "execution_count": 69,
   "id": "d365d61d-cf16-41d0-a727-87978304d80f",
   "metadata": {},
   "outputs": [
    {
     "name": "stdout",
     "output_type": "stream",
     "text": [
      "\n"
     ]
    },
    {
     "data": {
      "text/markdown": [
       "<span style=\"font-size:20px\">The entity object that promotes a world-leading request behind the relational order that precludes the Internet is sent to the automation.</span>"
      ],
      "text/plain": [
       "<IPython.core.display.Markdown object>"
      ]
     },
     "metadata": {},
     "output_type": "display_data"
    },
    {
     "name": "stdin",
     "output_type": "stream",
     "text": [
      "Press enter if you want that I continue. Press 'q', then enter to stop. q\n"
     ]
    }
   ],
   "source": [
    "# ======================================================================\n",
    "# Bullshit Generator \n",
    "#   by Pierre Denis, March 2009, 2014, 2024\n",
    "# ======================================================================\n",
    "\n",
    "# --------------------------------------------------\n",
    "# grammar engine\n",
    "# --------------------------------------------------\n",
    "\n",
    "import lea\n",
    "\n",
    "class Node(object):\n",
    "\n",
    "    def set_terms_choices(self,*termsChoices):\n",
    "        self.terms_choices = lea.pmf(termsChoices)\n",
    "        \n",
    "    def gen_words(self):\n",
    "        terms = self.terms_choices.random()\n",
    "        for term in terms:\n",
    "            if isinstance(term, str):\n",
    "                yield term\n",
    "            else:\n",
    "                for word in term.gen_words():\n",
    "                    yield word\n",
    "\n",
    "    def get_string(self):\n",
    "        res = \" \".join(self.gen_words())\n",
    "        res = \", \".join(w.strip() for w in res.split(\",\") if w.strip())\n",
    "        if res.endswith(\", \"):\n",
    "            res = res[:-2]\n",
    "        return res[0].upper() + res[1:] + \".\"\n",
    "\n",
    "\n",
    "class TerminalNode(object):\n",
    "\n",
    "    def __init__(self,*words):\n",
    "        self.words = lea.vals(*words)\n",
    "\n",
    "    def gen_words(self):\n",
    "        yield self.words.random()\n",
    "\n",
    "# --------------------------------------------------\n",
    "# grammar\n",
    "# --------------------------------------------------\n",
    "\n",
    "verb = TerminalNode(\n",
    "    \"accesses\", \"activates\", \"administrates\", \"aggregates\", \"builds\", \"calculates\", \"calls\", \"checks\",\n",
    "    \"cleans up\", \"competes with\", \"completes\", \"complies with\", \"consumes\", \"controls\", \"covers\",\n",
    "    \"creates\", \"declares\", \"delivers\", \"dispatches\", \"eases\", \"encapsulates\", \"encompasses\",\n",
    "    \"executes\", \"extracts\", \"features\", \"generates\", \"gets\", \"gets\", \"gets\", \"governs\", \"guides\",\n",
    "    \"has\", \"has\", \"has\", \"increases\", \"inherits from\", \"is\", \"is\", \"is\", \"keeps track of\",\n",
    "    \"leverages\", \"lies in\", \"makes\", \"manages\", \"maximizes\", \"mitigates\", \"monitors\", \"must have\",\n",
    "    \"needs\", \"negociates\", \"offers\", \"opens\", \"operates on\", \"optimizes\", \"orchestrates\",\n",
    "    \"overwrites\", \"performs\", \"populates\", \"precludes\", \"promotes\", \"provides\", \"provides\",\n",
    "    \"reads\", \"recalls\", \"receives\", \"reduces\", \"registers\", \"regulates\", \"relies on\", \"removes\",\n",
    "    \"requests\", \"requires\", \"resides on\", \"resides within\", \"retrieves\", \"retrieves the data in\",\n",
    "    \"runs\", \"runs on\", \"schedules\", \"integrates with\", \"sends\", \"shall be\", \"shall have\", \"should be\",\n",
    "    \"should have\", \"starts\", \"stores\", \"streamlines\", \"subscribes to\", \"supersedes\", \"takes\",\n",
    "    \"targets\", \"triggers\", \"updates\", \"validates\", \"writes\")\n",
    "\n",
    "passive_verb = TerminalNode(\n",
    "    \"accessed by\", \"achieved by\", \"aggregated by\", \"applicable for\", \"asserted by\", \"authorized by\",\n",
    "    \"based upon\", \"built from\", \"built upon\", \"cleaned by\", \"collected by\", \"consumed\",\n",
    "    \"contained in\", \"controlled by\", \"dedicated to\", \"deployed on\", \"deleted by\", \"derived from\",\n",
    "    \"dispatched by\", \"driven by\", \"eased by\", \"enabled by\", \"encapsulated by\", \"envisioned in\",\n",
    "    \"extracted from\", \"generated by\", \"in the scope of\", \"installed on\", \"integrated in\",\n",
    "    \"interfaced by\", \"located in\", \"managed by\", \"maximized by\", \"monitored by\", \"opened by\",\n",
    "    \"optimized by\", \"orchestrated by\", \"packaged in\", \"performed by\", \"populated by\", \"processed by\",\n",
    "    \"provided by\", \"provided from\", \"received by\", \"recycled by\", \"refreshed by\", \"registered in\",\n",
    "    \"removed by\", \"removed from\", \"requested by\", \"related to\", \"required by\", \"responsible for\",\n",
    "    \"scheduled by\", \"sent to\", \"serialized by\", \"serialized in\", \"started in\", \"stored by\",\n",
    "    \"stored in\", \"stored on\", \"subscribed by\", \"updated by\", \"validated by\", \"written by\")\n",
    "\n",
    "a_simple_name = TerminalNode(\n",
    "    \"COTS\", \"GRID processing\", \"Java program\", \"LDAP registry\", \"Portal\", \"RSS feed\", \"SAML token\",\n",
    "    \"SOAP message\", \"SSO\", \"TCP/IP\", \"UDDI\", \"UML model\", \"URL\", \"W3C\", \"Web\", \"Web 2.0\",\n",
    "    \"Web browser\", \"Web page\", \"Web service\", \"back-end\", \"backbone\", \"backend\", \"bandwidth\", \"bean\",\n",
    "    \"box\", \"bridge\", \"browser\", \"bus\", \"business\", \"business model\", \"call\", \"catalogue\", \"class\",\n",
    "    \"client\", \"cluster\", \"collection\", \"communication\", \"component\", \"compression\", \"computer\",\n",
    "    \"concept\", \"conceptualization\", \"connection\", \"console\", \"content\", \"context\", \"control\",\n",
    "    \"controller\", \"cookie\", \"copy\", \"customization\", \"data\", \"database\", \"dataset\", \"datastore\",\n",
    "    \"deployment\", \"derivation\", \"design\", \"development\", \"device\", \"directory\", \"discovery\",\n",
    "    \"dispatcher\", \"disruption\", \"document\", \"domain\", \"factory\", \"fat client\", \"feature\", \"file\",\n",
    "    \"footprint\", \"form\", \"frame\", \"framework\", \"frontend\", \"function\", \"gateway\", \"genericity\",\n",
    "    \"geomanagement\", \"goal\", \"governance\", \"granularity\", \"guideline\", \"header\", \"key\", \"layer\",\n",
    "    \"leader\", \"library\", \"link\", \"list\", \"log file\", \"logic\", \"look-and-feel\", \"manager\", \"market\",\n",
    "    \"mechanism\", \"memory\", \"message\", \"meta-model\", \"metadata\", \"model\", \"modeling\", \"module\",\n",
    "    \"name\", \"network\", \"package\", \"packaging\", \"parallelism\", \"performance\", \"persistence\",\n",
    "    \"personalization\", \"plug-in\", \"policy\", \"port\", \"portal\", \"practice\", \"presentation layer\",\n",
    "    \"printer\", \"privacy\", \"private key\", \"procedure\", \"process\", \"processor\", \"processing\",\n",
    "    \"product\", \"protocol\", \"provider\", \"recommendation\", \"registration\", \"registry\", \"relationship\",\n",
    "    \"request\", \"resource\", \"responsibility\", \"role\", \"rule\", \"scenario\", \"scheduler\", \"schema\",\n",
    "    \"security\", \"sequence\", \"server\", \"service\", \"service provider\", \"servlet\", \"session\",\n",
    "    \"skeleton\", \"software\", \"solution\", \"source\", \"space\", \"specification\", \"suite\", \"signal\",\n",
    "    \"slot\", \"standard\", \"state\", \"statement\", \"streaming\", \"style sheet\", \"subscriber\", \"subsystem\",\n",
    "    \"system\", \"system\", \"table\", \"target\", \"task\", \"taxonomy\", \"technique\", \"technology\", \"template\",\n",
    "    \"thin client\", \"thread\", \"throughput\", \"time\", \"timing\", \"token\", \"tool\", \"toolkit\", \"topic\",\n",
    "    \"unit\", \"usage\", \"use case\", \"user\", \"user experience\", \"validation\", \"value\", \"version\",\n",
    "    \"vision\", \"warehouse\", \"work\", \"workflow\", \"zone\")\n",
    "\n",
    "an_simple_name = TerminalNode(\n",
    "    \"API\", \"IP address\", \"Internet\", \"XML\", \"abstraction\", \"access\", \"acknowledgment\", \"action\",\n",
    "    \"actor\", \"administrator\", \"aggregator\", \"algorithm\", \"allowance\", \"appliance\", \"application\",\n",
    "    \"approach\", \"architecture\", \"area\", \"artifact\", \"aspect\", \"authentication\", \"automation\",\n",
    "    \"availability\", \"encapsulation\", \"end-point\", \"engine\", \"entity\", \"environment\", \"event\",\n",
    "    \"identifier\", \"image\", \"information\", \"instance\", \"instantiation\", \"integration\", \"interface\",\n",
    "    \"interoperability\", \"issuer\", \"object\", \"ontology\", \"operation\", \"operator\", \"opportunity\",\n",
    "    \"option\", \"orchestration\", \"order\", \"owner\")\n",
    "\n",
    "a_adjective = TerminalNode(\n",
    "    \"BPEL\",  \"DOM\", \"DTD\", \"GRID\", \"HTML\", \"J2EE\", \"Java\", \"Java-based\", \"UML\", \"SAX\", \"WFS\", \"WSDL\",\n",
    "    \"basic\", \"broad\", \"bug-free\", \"business-driven\", \"client-side\", \"coarse\", \"coherent\",\n",
    "    \"compatible\", \"complete\", \"compliant\", \"comprehensive\", \"conceptual\", \"consistent\", \"continuous\", \n",
    "    \"cost-effective\", \"custom\", \"data-driven\", \"dedicated\", \"design\", \"disruptive\", \"distributed\",\n",
    "    \"dynamic\", \"encrypted\", \"event-driven\", \"fine-grained\", \"first-class\", \"form\", \"formal\", \"free\",\n",
    "    \"full\", \"generic\", \"geo-referenced\", \"global\", \"global\", \"graphical\", \"hard\", \"high-resolution\",\n",
    "    \"high-level\", \"individual\", \"invulnerable\", \"just-in-time\", \"key\", \"layered\", \"leading\",\n",
    "    \"lightweight\", \"limited\", \"local\", \"logical\", \"machine\", \"main\", \"major\", \"message-based\",\n",
    "    \"most important\", \"multi-tiers\", \"narrow\", \"native\", \"next\", \"next-generation\", \"normal\",\n",
    "    \"operational\", \"parallel\", \"password-protected\", \"peer-to-peer\", \"performant\", \"periodic\",\n",
    "    \"physical\", \"point-to-point\", \"polymorphic\",\"portable\", \"primary\", \"prime\", \"private\", \"proven\",\n",
    "    \"public\", \"raw\", \"real-time\", \"registered\", \"relational\", \"reliable\", \"remote\", \"respective\",\n",
    "    \"right\", \"robust\", \"rule-based\", \"scalable\", \"seamless\", \"secondary\", \"semantic\", \"serial\",\n",
    "    \"server-side\", \"service-based\", \"service-oriented\", \"simple\", \"sole\", \"specific\", \"sporadic\",\n",
    "    \"standard\", \"state-of-the-art\", \"stateless\", \"storage\", \"sufficient\", \"technical\", \"thread-safe\",\n",
    "    \"time-based\", \"uniform\", \"unique\", \"used\", \"useful\", \"user-friendly\", \"virtual\", \"visual\",\n",
    "    \"Web-based\", \"web-centric\", \"well-documented\", \"wireless\", \"world-leading\", \"zero-default\")\n",
    "\n",
    "an_adjective = TerminalNode(\n",
    "    \"AJAX\", \"OO\", \"XML-based\", \"abstract\", \"agnostic\", \"ancillary\", \"asynchronous\",\n",
    "    \"authenticated\", \"authorized\", \"auto-regulated\", \"automated\", \"automatic\", \"available\", \"aware\",\n",
    "    \"efficient\", \"event-based\", \"integrated\", \"international\", \"interoperable\", \"off-line\",\n",
    "    \"off-the-shelf\", \"official\", \"online\", \"open\", \"operational\", \"other\", \"own\", \"unaffected\",\n",
    "    \"unlimited\", \"up-to-date\")\n",
    "\n",
    "adverb = TerminalNode(\n",
    "    \"basically\", \"comprehensively\", \"conceptually\", \"consistently\", \"definitely\", \"dramatically\",\n",
    "    \"dynamically\", \"expectedly\", \"fully\", \"generally\", \"generically\", \"globally\", \"greatly\",\n",
    "    \"individually\", \"locally\", \"logically\", \"mainly\", \"mostly\", \"natively\", \"officially\", \"often\",\n",
    "    \"periodically\", \"physically\", \"practically\", \"primarily\", \"repeatedly\", \"roughly\", \"sequentially\",\n",
    "    \"simply\", \"specifically\", \"surely\", \"technically\", \"undoubtly\", \"usefully\", \"virtually\")\n",
    "                            \n",
    "sentenceHead = TerminalNode(\n",
    "    \"actually\", \"as a matter of fact\", \"as said before\", \"as stated before\", \"basically\",\n",
    "    \"before all\", \"besides this\", \"beyond that point\", \"clearly\", \"conversely\", \"despite these facts\",\n",
    "    \"for this reason\", \"generally speaking\", \"if needed\", \"in essence\", \"in other words\",\n",
    "    \"in our opinion\", \"in the long term\", \"in the short term\", \"in this case\", \"incidentally\",\n",
    "    \"moreover\", \"nevertheless\", \"now\", \"otherwise\", \"periodically\", \"roughly speaking\",\n",
    "    \"that being said\", \"then\", \"therefore\", \"to summarize\", \"up to here\", \"up to now\",\n",
    "    \"when this happens\")\n",
    "\n",
    "(name, a_name, an_name, name_tail, adjective, name_group,\n",
    " simple_name_group, verbal_group, simple_verbal_group, sentence,\n",
    " sentence_tail) = [Node() for i in range(11)]\n",
    "\n",
    "a_name.set_terms_choices(\n",
    "    (( a_simple_name,      ), 50 ),\n",
    "    (( a_simple_name, name ),  8 ),\n",
    "    (( a_name, name_tail   ),  5 ))\n",
    "\n",
    "an_name.set_terms_choices(\n",
    "    (( an_simple_name,      ), 50 ),\n",
    "    (( an_simple_name, name ),  8 ),\n",
    "    (( an_name, name_tail   ),  5 ))\n",
    "\n",
    "name_tail.set_terms_choices(\n",
    "    (( \"of\", name_group        ), 8 ),\n",
    "    (( \"from\", name_group      ), 8 ),\n",
    "    (( \"above\", name_group     ), 1 ),\n",
    "    (( \"after\", name_group     ), 1 ),\n",
    "    (( \"against\", name_group   ), 1 ),\n",
    "    (( \"before\", name_group    ), 1 ),\n",
    "    (( \"behind\", name_group    ), 1 ),\n",
    "    (( \"below\", name_group     ), 1 ),\n",
    "    (( \"on top of\", name_group ), 1 ),\n",
    "    (( \"under\", name_group     ), 1 ))\n",
    "\n",
    "name.set_terms_choices(\n",
    "    (( a_name,  ), 1 ),\n",
    "    (( an_name, ), 1 ))\n",
    "\n",
    "adjective.set_terms_choices(\n",
    "    (( a_adjective,  ), 1 ),\n",
    "    (( an_adjective, ), 1 ))\n",
    "\n",
    "name_group.set_terms_choices(\n",
    "    (( simple_name_group,                                     ), 14 ),\n",
    "    (( simple_name_group, passive_verb, name_group            ),  3 ),\n",
    "    (( simple_name_group, \"that\", simple_verbal_group         ),  2 ),\n",
    "    (( simple_name_group, \", which\", simple_verbal_group, \",\" ),  1 ))\n",
    "\n",
    "simple_name_group.set_terms_choices(\n",
    "    (( \"the\", name              ), 40 ),\n",
    "    (( \"the\", adjective, name   ), 20 ),\n",
    "    (( \"a\", a_name              ), 10 ),\n",
    "    (( \"an\", an_name            ), 10 ),\n",
    "    (( \"a\", a_adjective, name   ),  5 ),                \n",
    "    (( \"an\", an_adjective, name ),  5 ))  \n",
    "\n",
    "verbal_group.set_terms_choices(\n",
    "    (( verb, name_group                       ), 10 ),\n",
    "    (( adverb, verb, name_group               ),  1 ),\n",
    "    (( \"is\", passive_verb, name_group         ),  4 ),\n",
    "    (( \"is\", adverb, passive_verb, name_group ),  1 ),\n",
    "    (( \"is\", adjective                        ),  1 ),\n",
    "    (( \"is\", adverb, adjective                ),  1 ))\n",
    "\n",
    "simple_verbal_group.set_terms_choices(\n",
    "    (( verb, simple_name_group ), 2 ),\n",
    "    (( \"is\", adjective         ), 1 ))\n",
    "\n",
    "sentence.set_terms_choices(\n",
    "    (( name_group, verbal_group                     ), 20 ),\n",
    "    (( sentenceHead, \",\" , name_group, verbal_group ),  4 ),\n",
    "    (( sentence, sentence_tail                      ),  4 ))\n",
    "\n",
    "sentence_tail.set_terms_choices(\n",
    "    (( \"in\", name_group                  ), 12 ),\n",
    "    (( \"within\", name_group              ),  5 ),\n",
    "    (( \"where\", name_group, verbal_group ),  5 ),\n",
    "    (( \"when\", name_group, verbal_group  ),  5 ),\n",
    "    (( \"because it\", verbal_group        ),  2 ),\n",
    "    (( \"; that's why it\", verbal_group   ),  1 ))\n",
    "\n",
    "# --------------------------------------------------\n",
    "# main program\n",
    "# --------------------------------------------------\n",
    "try:\n",
    "    import pyttsx3\n",
    "    from pyttsx3 import speak\n",
    "    engine = pyttsx3.init()\n",
    "    engine.setProperty('rate', 120)\n",
    "except ImportError:\n",
    "    def speak(sentence):\n",
    "        pass\n",
    "try:\n",
    "    from IPython.display import display, Markdown\n",
    "    def show(sentence):\n",
    "        display(Markdown(f'<span style=\"font-size:20px\">{sentence}</span>'))\n",
    "except ImportError:\n",
    "    show = print\n",
    "from random import seed\n",
    "seed(666)\n",
    "while True:\n",
    "    print (\"\")\n",
    "    for i in range(1):\n",
    "        generated_sentence = sentence.get_string()\n",
    "        show(generated_sentence)\n",
    "        speak(generated_sentence)\n",
    "    #print(\"\\n\")\n",
    "    cmd = input(\"Press enter if you want that I continue. Press 'q', then enter to stop.\")\n",
    "    if cmd.strip().lower() == \"q\":\n",
    "        break"
   ]
  },
  {
   "cell_type": "markdown",
   "id": "b0225f12-4a9c-4e94-8d79-48b802a78644",
   "metadata": {},
   "source": [
    "## Q & A"
   ]
  },
  {
   "cell_type": "code",
   "execution_count": 70,
   "id": "da436c56-fca8-4481-8dcc-610fd64c63d3",
   "metadata": {},
   "outputs": [
    {
     "data": {
      "text/plain": [
       "Any question?        :  33.33 %\n",
       "No question?         :  33.33 %\n",
       "Why do you question? :  33.33 %"
      ]
     },
     "execution_count": 70,
     "metadata": {},
     "output_type": "execute_result"
    }
   ],
   "source": [
    "lea.vals(\"Any\", \"No\", \"Why do you\") + \" question?\""
   ]
  },
  {
   "cell_type": "markdown",
   "id": "f5a9f0b9-3550-4e7c-a670-db77f723a304",
   "metadata": {},
   "source": [
    "## Links\n",
    "\n",
    "|                          | URL                                      |\n",
    "| ------------------------ | -----------------------------------------|\n",
    "| Lea Git repo             | https://bitbucket.org/piedenis/lea       |\n",
    "| Lea Tutorial             | https://bitbucket.org/piedenis/lea/wiki  |\n",
    "| present Jupyter notebook | https://github.com/piedenis/lea_showroom |\n",
    "| contact                  | pie.denis@skynet.be                      |\n",
    "|                          | English / French spoken!                 |\n"
   ]
  }
 ],
 "metadata": {
  "kernelspec": {
   "display_name": "Python 3 (ipykernel)",
   "language": "python",
   "name": "python3"
  },
  "language_info": {
   "codemirror_mode": {
    "name": "ipython",
    "version": 3
   },
   "file_extension": ".py",
   "mimetype": "text/x-python",
   "name": "python",
   "nbconvert_exporter": "python",
   "pygments_lexer": "ipython3",
   "version": "3.9.0"
  }
 },
 "nbformat": 4,
 "nbformat_minor": 5
}
